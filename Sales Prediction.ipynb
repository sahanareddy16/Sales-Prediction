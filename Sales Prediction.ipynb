{
 "cells": [
  {
   "cell_type": "code",
   "execution_count": 31,
   "id": "57242a0a",
   "metadata": {},
   "outputs": [],
   "source": [
    "#Importing the libraries\n",
    "import pandas as pd\n",
    "import matplotlib.pyplot as plt\n",
    "import seaborn as sns"
   ]
  },
  {
   "cell_type": "code",
   "execution_count": 32,
   "id": "b5e64f4b",
   "metadata": {},
   "outputs": [],
   "source": [
    "#Loading the data\n",
    "df=pd.read_excel(r\"C:\\Users\\sahan\\Downloads\\Walmart Sales.xlsx\")"
   ]
  },
  {
   "cell_type": "code",
   "execution_count": 33,
   "id": "e937b056",
   "metadata": {},
   "outputs": [
    {
     "data": {
      "text/html": [
       "<div>\n",
       "<style scoped>\n",
       "    .dataframe tbody tr th:only-of-type {\n",
       "        vertical-align: middle;\n",
       "    }\n",
       "\n",
       "    .dataframe tbody tr th {\n",
       "        vertical-align: top;\n",
       "    }\n",
       "\n",
       "    .dataframe thead th {\n",
       "        text-align: right;\n",
       "    }\n",
       "</style>\n",
       "<table border=\"1\" class=\"dataframe\">\n",
       "  <thead>\n",
       "    <tr style=\"text-align: right;\">\n",
       "      <th></th>\n",
       "      <th>Invoice ID</th>\n",
       "      <th>Branch</th>\n",
       "      <th>City</th>\n",
       "      <th>Customer type</th>\n",
       "      <th>Gender</th>\n",
       "      <th>Product line</th>\n",
       "      <th>Unit price</th>\n",
       "      <th>Quantity</th>\n",
       "      <th>Date</th>\n",
       "      <th>Time</th>\n",
       "      <th>Payment</th>\n",
       "      <th>Rating</th>\n",
       "    </tr>\n",
       "  </thead>\n",
       "  <tbody>\n",
       "    <tr>\n",
       "      <th>0</th>\n",
       "      <td>750-67-8428</td>\n",
       "      <td>A</td>\n",
       "      <td>Yangon</td>\n",
       "      <td>Member</td>\n",
       "      <td>Female</td>\n",
       "      <td>Health and beauty</td>\n",
       "      <td>74.69</td>\n",
       "      <td>7</td>\n",
       "      <td>1/5/2019</td>\n",
       "      <td>13:08:00</td>\n",
       "      <td>Ewallet</td>\n",
       "      <td>9.1</td>\n",
       "    </tr>\n",
       "    <tr>\n",
       "      <th>1</th>\n",
       "      <td>226-31-3081</td>\n",
       "      <td>A</td>\n",
       "      <td>Naypyitaw</td>\n",
       "      <td>Normal</td>\n",
       "      <td>Female</td>\n",
       "      <td>Electronic accessories</td>\n",
       "      <td>15.28</td>\n",
       "      <td>5</td>\n",
       "      <td>3/8/2019</td>\n",
       "      <td>10:29:00</td>\n",
       "      <td>Cash</td>\n",
       "      <td>9.6</td>\n",
       "    </tr>\n",
       "    <tr>\n",
       "      <th>2</th>\n",
       "      <td>631-41-3108</td>\n",
       "      <td>A</td>\n",
       "      <td>Yangon</td>\n",
       "      <td>Normal</td>\n",
       "      <td>Male</td>\n",
       "      <td>Home and lifestyle</td>\n",
       "      <td>46.33</td>\n",
       "      <td>7</td>\n",
       "      <td>3/3/2019</td>\n",
       "      <td>13:23:00</td>\n",
       "      <td>Credit card</td>\n",
       "      <td>7.4</td>\n",
       "    </tr>\n",
       "    <tr>\n",
       "      <th>3</th>\n",
       "      <td>123-19-1176</td>\n",
       "      <td>B</td>\n",
       "      <td>Yangon</td>\n",
       "      <td>Member</td>\n",
       "      <td>Male</td>\n",
       "      <td>Health and beauty</td>\n",
       "      <td>58.22</td>\n",
       "      <td>8</td>\n",
       "      <td>1/27/2019</td>\n",
       "      <td>20:33:00</td>\n",
       "      <td>Ewallet</td>\n",
       "      <td>8.4</td>\n",
       "    </tr>\n",
       "    <tr>\n",
       "      <th>4</th>\n",
       "      <td>373-73-7910</td>\n",
       "      <td>C</td>\n",
       "      <td>Yangon</td>\n",
       "      <td>Normal</td>\n",
       "      <td>Male</td>\n",
       "      <td>Sports and travel</td>\n",
       "      <td>86.31</td>\n",
       "      <td>7</td>\n",
       "      <td>2/8/2019</td>\n",
       "      <td>10:37:00</td>\n",
       "      <td>Ewallet</td>\n",
       "      <td>5.3</td>\n",
       "    </tr>\n",
       "  </tbody>\n",
       "</table>\n",
       "</div>"
      ],
      "text/plain": [
       "    Invoice ID Branch       City Customer type  Gender  \\\n",
       "0  750-67-8428      A     Yangon        Member  Female   \n",
       "1  226-31-3081      A  Naypyitaw        Normal  Female   \n",
       "2  631-41-3108      A     Yangon        Normal    Male   \n",
       "3  123-19-1176      B     Yangon        Member    Male   \n",
       "4  373-73-7910      C     Yangon        Normal    Male   \n",
       "\n",
       "             Product line  Unit price  Quantity       Date      Time  \\\n",
       "0       Health and beauty       74.69         7   1/5/2019  13:08:00   \n",
       "1  Electronic accessories       15.28         5   3/8/2019  10:29:00   \n",
       "2      Home and lifestyle       46.33         7   3/3/2019  13:23:00   \n",
       "3       Health and beauty       58.22         8  1/27/2019  20:33:00   \n",
       "4       Sports and travel       86.31         7   2/8/2019  10:37:00   \n",
       "\n",
       "       Payment  Rating  \n",
       "0      Ewallet     9.1  \n",
       "1         Cash     9.6  \n",
       "2  Credit card     7.4  \n",
       "3      Ewallet     8.4  \n",
       "4      Ewallet     5.3  "
      ]
     },
     "execution_count": 33,
     "metadata": {},
     "output_type": "execute_result"
    }
   ],
   "source": [
    "#Exploring the data\n",
    "df.head()"
   ]
  },
  {
   "cell_type": "code",
   "execution_count": 34,
   "id": "9eb3e7b8",
   "metadata": {},
   "outputs": [
    {
     "name": "stdout",
     "output_type": "stream",
     "text": [
      "<class 'pandas.core.frame.DataFrame'>\n",
      "RangeIndex: 1000 entries, 0 to 999\n",
      "Data columns (total 12 columns):\n",
      " #   Column         Non-Null Count  Dtype  \n",
      "---  ------         --------------  -----  \n",
      " 0   Invoice ID     1000 non-null   object \n",
      " 1   Branch         1000 non-null   object \n",
      " 2   City           1000 non-null   object \n",
      " 3   Customer type  1000 non-null   object \n",
      " 4   Gender         1000 non-null   object \n",
      " 5   Product line   1000 non-null   object \n",
      " 6   Unit price     1000 non-null   float64\n",
      " 7   Quantity       1000 non-null   int64  \n",
      " 8   Date           1000 non-null   object \n",
      " 9   Time           1000 non-null   object \n",
      " 10  Payment        1000 non-null   object \n",
      " 11  Rating         1000 non-null   float64\n",
      "dtypes: float64(2), int64(1), object(9)\n",
      "memory usage: 93.9+ KB\n"
     ]
    }
   ],
   "source": [
    "#Exploring the data\n",
    "df.info()"
   ]
  },
  {
   "cell_type": "code",
   "execution_count": 35,
   "id": "0545ef7a",
   "metadata": {},
   "outputs": [
    {
     "name": "stdout",
     "output_type": "stream",
     "text": [
      "                  Unit price  Quantity\n",
      "City      Branch                      \n",
      "Mandalay  A          6349.11       637\n",
      "          B          6623.73       664\n",
      "          C          5506.04       519\n",
      "Naypyitaw A          5953.55       648\n",
      "          B          6298.64       604\n",
      "          C          6315.57       579\n",
      "Yangon    A          6342.88       598\n",
      "          B          6329.25       631\n",
      "          C          5953.36       630\n",
      "City       Branch\n",
      "Mandalay   A         4044383.07\n",
      "           B         4398156.72\n",
      "           C         2857634.76\n",
      "Naypyitaw  A         3857900.40\n",
      "           B         3804378.56\n",
      "           C         3656715.03\n",
      "Yangon     A         3793042.24\n",
      "           B         3993756.75\n",
      "           C         3750616.80\n",
      "dtype: float64\n"
     ]
    }
   ],
   "source": [
    "#Grouping by city and branch\n",
    "city_branch_sales=df.groupby(['City','Branch'])[['Unit price','Quantity']].sum()\n",
    "city_branch_revenue= city_branch_sales['Unit price']*city_branch_sales['Quantity']\n",
    "print(city_branch_sales)\n",
    "print(city_branch_revenue)"
   ]
  },
  {
   "cell_type": "code",
   "execution_count": 36,
   "id": "4c5b2cb5",
   "metadata": {},
   "outputs": [
    {
     "data": {
      "text/plain": [
       "Text(0.5, 0, 'City,Branch')"
      ]
     },
     "execution_count": 36,
     "metadata": {},
     "output_type": "execute_result"
    },
    {
     "data": {
      "text/plain": [
       "<Figure size 1000x600 with 0 Axes>"
      ]
     },
     "metadata": {},
     "output_type": "display_data"
    },
    {
     "data": {
      "image/png": "[encoded data removed]",
      "text/plain": [
       "<Figure size 640x480 with 1 Axes>"
      ]
     },
     "metadata": {},
     "output_type": "display_data"
    },
    {
     "data": {
      "image/png": "[encoded data removed]",
      "text/plain": [
       "<Figure size 1000x600 with 1 Axes>"
      ]
     },
     "metadata": {},
     "output_type": "display_data"
    }
   ],
   "source": [
    "#Plotting sales and revenue\n",
    "plt.figure(figsize=(10,6))\n",
    "city_branch_sales.plot(kind='bar', title='Sales by City and Branch')\n",
    "plt.ylabel('sales')\n",
    "plt.xlabel('City,Branch')\n",
    "\n",
    "plt.figure(figsize=(10,6))\n",
    "city_branch_revenue.plot(kind='bar', title='Revenue by City and Revenue')\n",
    "plt.ylabel('Revenue')\n",
    "plt.xlabel('City,Branch')"
   ]
  },
  {
   "cell_type": "code",
   "execution_count": 37,
   "id": "53f93090",
   "metadata": {},
   "outputs": [
    {
     "name": "stdout",
     "output_type": "stream",
     "text": [
      "City       Branch\n",
      "Mandalay   A         53.353866\n",
      "           B         56.133305\n",
      "           C         57.958316\n",
      "Naypyitaw  A         54.123182\n",
      "           B         57.785688\n",
      "           C         57.941009\n",
      "Yangon     A         55.639298\n",
      "           B         56.011062\n",
      "           C         52.684602\n",
      "Name: Unit price, dtype: float64\n"
     ]
    }
   ],
   "source": [
    "#Grouping by City and Branch and Calculating the average price\n",
    "avg_price_by_branch= df.groupby(['City','Branch'])['Unit price'].mean()\n",
    "#Displaying the average prices\n",
    "print(avg_price_by_branch)"
   ]
  },
  {
   "cell_type": "code",
   "execution_count": 38,
   "id": "93da9e77",
   "metadata": {},
   "outputs": [],
   "source": [
    "#Preprocessing the date column to extract month and year\n",
    "df['Date'] = pd.to_datetime(df['Date'])\n",
    "df['Month']=df['Date'].dt.month\n",
    "df['Year']=df['Date'].dt.year"
   ]
  },
  {
   "cell_type": "code",
   "execution_count": 39,
   "id": "891088a2",
   "metadata": {},
   "outputs": [],
   "source": [
    "#Filtering data for april 2019\n",
    "april_2019_data=df[(df['Month']==4)&(df['Year']==2019)]\n",
    "#grouping by product line. gender and payment method and aggregate sales and revenue\n",
    "grouped_data=april_2019_data.groupby(['Product line', 'Gender', 'Payment']).agg(Total_Sales=('Quantity','sum'),Total_Revenue=('Unit price','sum')).reset_index()\n",
    "\n"
   ]
  },
  {
   "cell_type": "code",
   "execution_count": 40,
   "id": "cb01fec8",
   "metadata": {},
   "outputs": [
    {
     "name": "stdout",
     "output_type": "stream",
     "text": [
      "Total Sales in April 2019: 0\n",
      "Total Revenue in April 2019: 0.0\n",
      "Average Price in April 2019: 0\n",
      "Focus Areas for Better Sales in April 2019:\n",
      "Empty DataFrame\n",
      "Columns: [Total_Sales, Total_Revenue]\n",
      "Index: []\n"
     ]
    }
   ],
   "source": [
    "#Calculating total sales quantity and revenue for april 2019\n",
    "total_sales_april=grouped_data['Total_Sales'].sum()\n",
    "total_revenue_april=grouped_data['Total_Revenue'].sum()\n",
    "average_price_april=total_revenue_april/total_sales_april if total_sales_april>0 else 0\n",
    "#Identifying focus areas for better sales in April 2019\n",
    "focus_areas=grouped_data.groupby(['Product line','Gender','Payment']).sum().sort_values(by='Total_Sales',ascending=False).head(3)\n",
    "print(f\"Total Sales in April 2019: {total_sales_april}\")\n",
    "print(f\"Total Revenue in April 2019: {total_revenue_april}\")\n",
    "print(f\"Average Price in April 2019: {average_price_april}\")\n",
    "print(\"Focus Areas for Better Sales in April 2019:\")\n",
    "print(focus_areas)"
   ]
  },
  {
   "cell_type": "code",
   "execution_count": 1,
   "id": "97d476ea",
   "metadata": {},
   "outputs": [],
   "source": [
    "#The code did not find any data for April 2019 on the dataset, which resulted in empty ornull values for the sales quantity."
   ]
  }
 ],
 "metadata": {
  "kernelspec": {
   "display_name": "Python 3 (ipykernel)",
   "language": "python",
   "name": "python3"
  },
  "language_info": {
   "codemirror_mode": {
    "name": "ipython",
    "version": 3
   },
   "file_extension": ".py",
   "mimetype": "text/x-python",
   "name": "python",
   "nbconvert_exporter": "python",
   "pygments_lexer": "ipython3",
   "version": "3.9.13"
  }
 },
 "nbformat": 4,
 "nbformat_minor": 5
}
